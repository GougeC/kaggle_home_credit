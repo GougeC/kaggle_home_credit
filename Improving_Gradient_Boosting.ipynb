{
 "cells": [
  {
   "cell_type": "code",
   "execution_count": 1,
   "metadata": {
    "collapsed": true
   },
   "outputs": [],
   "source": [
    "import numpy as np\n",
    "import pandas as pd\n",
    "import xgboost\n",
    "\n",
    "from sklearn.model_selection import KFold, train_test_split\n",
    "from sklearn.metrics import roc_auc_score"
   ]
  },
  {
   "cell_type": "code",
   "execution_count": 2,
   "metadata": {
    "collapsed": true
   },
   "outputs": [],
   "source": [
    "#This is my data cleaning code I set up in Quick_and_Dirty.ipynb\n",
    "\n",
    "data = pd.read_csv('data/application_train.csv')\n",
    "test_data = pd.read_csv('data/application_test.csv')\n",
    "data.rename(columns={x:x.lower() for x in data.columns}, inplace=True)\n",
    "test_data.rename(columns={x:x.lower() for x in test_data.columns}, inplace=True)\n",
    "\n",
    "float_columns = [x for x in data.columns if data[x].dtype == np.float64]\n",
    "float_columns_with_nulls =  [c for c in float_columns if data[c].isna().values.any()]\n",
    "categorical_columns = [x for x in data.columns if data[x].dtype == object]\n",
    "\n",
    "#Cleaning training data \n",
    "\n",
    "#adding a null category for each categorical column \n",
    "for col in categorical_columns:\n",
    "    data.loc[:,col] = data[col].apply(lambda x: x if not pd.isna(x) else \"null\")\n",
    "    \n",
    "uniques = {col:data[col].unique() for col in categorical_columns}\n",
    "\n",
    "#imputing nans in float columns and adding an is_imputed column\n",
    "for col in float_columns_with_nulls:\n",
    "    null_col = col+'_is_imputed'\n",
    "    data[null_col] = data[col].apply(lambda x: 1 if pd.isna(x) else 0)\n",
    "    data.loc[:,col] = data[col].apply(lambda x: 0 if pd.isna(x) else x )\n",
    "    \n",
    "#creating dummy columns for all the categorical columns\n",
    "for col in categorical_columns:\n",
    "    for cat in uniques[col]:\n",
    "        data[col+'_'+cat] = data[col].apply(lambda x: 1 if x == cat else 0)\n",
    "    data= data.drop(col, axis = 1)\n",
    "    \n",
    "### Cleaning test data    \n",
    "#adding a null category for each categorical column \n",
    "for col in categorical_columns:\n",
    "    test_data.loc[:,col] = test_data[col].apply(lambda x: x if not pd.isna(x) else \"null\")\n",
    "    \n",
    "\n",
    "#imputing nans in float columns and adding an is_imputed column\n",
    "for col in float_columns_with_nulls:\n",
    "    null_col = col+'_is_imputed'\n",
    "    test_data[null_col] = test_data[col].apply(lambda x: 1 if pd.isna(x) else 0)\n",
    "    test_data.loc[:,col] = test_data[col].apply(lambda x: 0 if pd.isna(x) else x )\n",
    "    \n",
    "#creating dummy columns for all the categorical columns\n",
    "for col in categorical_columns:\n",
    "    for cat in uniques[col]:\n",
    "        test_data[col+'_'+cat] = test_data[col].apply(lambda x: 1 if x == cat else 0)\n",
    "    test_data= test_data.drop(col, axis = 1)\n"
   ]
  },
  {
   "cell_type": "code",
   "execution_count": 3,
   "metadata": {
    "collapsed": true
   },
   "outputs": [],
   "source": [
    "X,y = data.drop(['target','sk_id_curr'],axis = 1), data['target'] \n",
    "X_train, X_val, y_train, y_val = train_test_split(X, y, test_size=0.2, random_state=17)"
   ]
  },
  {
   "cell_type": "code",
   "execution_count": null,
   "metadata": {
    "collapsed": true
   },
   "outputs": [],
   "source": [
    "booster = xgboost.XGBClassifier(max_depth = 4, )"
   ]
  }
 ],
 "metadata": {
  "kernelspec": {
   "display_name": "Python 3",
   "language": "python",
   "name": "python3"
  },
  "language_info": {
   "codemirror_mode": {
    "name": "ipython",
    "version": 3
   },
   "file_extension": ".py",
   "mimetype": "text/x-python",
   "name": "python",
   "nbconvert_exporter": "python",
   "pygments_lexer": "ipython3",
   "version": "3.6.3"
  }
 },
 "nbformat": 4,
 "nbformat_minor": 2
}
